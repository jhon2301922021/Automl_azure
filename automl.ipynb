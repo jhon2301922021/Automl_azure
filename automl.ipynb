{
 "cells": [
  {
   "cell_type": "markdown",
   "metadata": {},
   "source": [
    "# Step 0: Install dependencies"
   ]
  },
  {
   "cell_type": "code",
   "execution_count": null,
   "metadata": {},
   "outputs": [],
   "source": [
    "# !pip install azure-identity==1.15.0\n",
    "# !pip install azureml-fsspec==1.3.1\n",
    "# !pip install azureml-sdk==1.55.0\n",
    "# !pip install azure-ai-ml==1.15.0\n",
    "# !pip install mltable==1.6.1"
   ]
  },
  {
   "cell_type": "markdown",
   "metadata": {},
   "source": [
    "# Step 1: Set up your workspace"
   ]
  },
  {
   "cell_type": "code",
   "execution_count": 1,
   "metadata": {},
   "outputs": [],
   "source": [
    "from azure.identity import DefaultAzureCredential\n",
    "from azure.ai.ml import MLClient\n",
    "\n",
    "credential = DefaultAzureCredential()\n",
    "ml_client = None\n",
    "try:\n",
    "    # Enter details of your Azure Machine Learning workspace\n",
    "    subscription_id = \"suscription-id-413e-b571-e52d252eb3c6\"\n",
    "    resource_group = \"dmc-group\"\n",
    "    workspace = \"jose-dmc\"\n",
    "    ml_client = MLClient(credential, subscription_id, resource_group, workspace)\n",
    "except Exception as ex:\n",
    "    print(ex)"
   ]
  },
  {
   "cell_type": "markdown",
   "metadata": {},
   "source": [
    "# Step 2: Data source and format"
   ]
  },
  {
   "cell_type": "code",
   "execution_count": 2,
   "metadata": {},
   "outputs": [
    {
     "data": {
      "text/plain": [
       "paths:\n",
       "- file: file://d:\\DMC\\AutoML_Azure\\train_data\\iris_dataset.csv\n",
       "transformations:\n",
       "- read_delimited:\n",
       "    delimiter: ','\n",
       "    empty_as_string: false\n",
       "    encoding: utf8\n",
       "    header: all_files_same_headers\n",
       "    include_path_column: false\n",
       "    infer_column_types: true\n",
       "    partition_size: 20971520\n",
       "    path_column: Path\n",
       "    support_multi_line: false\n",
       "type: mltable"
      ]
     },
     "execution_count": 2,
     "metadata": {},
     "output_type": "execute_result"
    }
   ],
   "source": [
    "import mltable\n",
    "\n",
    "paths = [\n",
    "    {'file': './train_data/iris_dataset.csv'}\n",
    "]\n",
    "\n",
    "train_table = mltable.from_delimited_files(paths)\n",
    "train_table.save('./train_data')"
   ]
  },
  {
   "cell_type": "markdown",
   "metadata": {},
   "source": [
    "# Step 3: Create a Compute Instance (If not exist)"
   ]
  },
  {
   "cell_type": "code",
   "execution_count": 3,
   "metadata": {},
   "outputs": [],
   "source": [
    "# #Sign into Azure with Azure CLI\n",
    "# !az login"
   ]
  },
  {
   "cell_type": "code",
   "execution_count": 5,
   "metadata": {},
   "outputs": [
    {
     "data": {
      "text/plain": [
       "ComputeInstance({'state': 'Running', 'last_operation': {'operation_name': 'Create', 'operation_time': '2024-03-31T13:49:39.065Z', 'operation_status': 'Succeeded', 'operation_trigger': 'User'}, 'os_image_metadata': <azure.ai.ml.entities._compute._image_metadata.ImageMetadata object at 0x0000023493BC8FD0>, 'services': [{'display_name': 'Jupyter', 'endpoint_uri': 'https://jose-basic-ci.eastus.instances.azureml.ms/tree/'}, {'display_name': 'Jupyter Lab', 'endpoint_uri': 'https://jose-basic-ci.eastus.instances.azureml.ms/lab'}], 'type': 'computeinstance', 'created_on': '2024-03-31T13:49:31.881678+0000', 'provisioning_state': 'Succeeded', 'provisioning_errors': None, 'name': 'jose-basic-ci', 'description': None, 'tags': None, 'properties': {}, 'print_as_yaml': False, 'id': '/subscriptions/37520400-632e-413e-b571-e52d252eb3c6/resourceGroups/dmc-group/providers/Microsoft.MachineLearningServices/workspaces/jose-dmc/computes/jose-basic-ci', 'Resource__source_path': '', 'base_path': 'd:\\\\DMC\\\\AutoML_Azure', 'creation_context': None, 'serialize': <msrest.serialization.Serializer object at 0x0000023493BCA470>, 'resource_id': None, 'location': 'eastus', 'size': 'Standard_DS2_v2', 'ssh_public_access_enabled': False, 'create_on_behalf_of': None, 'network_settings': <azure.ai.ml.entities._compute.compute.NetworkSettings object at 0x0000023493BCB5E0>, 'ssh_settings': <azure.ai.ml.entities._compute.compute_instance.ComputeInstanceSshSettings object at 0x0000023493BC95D0>, 'schedules': None, 'identity': None, 'idle_time_before_shutdown': None, 'idle_time_before_shutdown_minutes': None, 'setup_scripts': None, 'enable_node_public_ip': True, 'enable_sso': True, 'enable_root_access': True, 'custom_applications': None, 'subnet': None})"
      ]
     },
     "execution_count": 5,
     "metadata": {},
     "output_type": "execute_result"
    }
   ],
   "source": [
    "ci_basic_name = \"jose-basic-ci\"\n",
    "from azure.ai.ml.entities import ComputeInstance, AmlCompute\n",
    "ci_basic = ComputeInstance(name=ci_basic_name, size=\"Standard_DS2_v2\")\n",
    "ml_client.begin_create_or_update(ci_basic).result()\n"
   ]
  },
  {
   "cell_type": "markdown",
   "metadata": {},
   "source": [
    "# Step 4: Configure your experiment settings"
   ]
  },
  {
   "cell_type": "code",
   "execution_count": 6,
   "metadata": {},
   "outputs": [],
   "source": [
    "from azure.ai.ml.constants import AssetTypes\n",
    "from azure.ai.ml import automl, Input\n",
    "\n",
    "# make an Input object for the training data\n",
    "my_training_data_input = Input(\n",
    "    type=AssetTypes.MLTABLE, path=\"./train_data\"\n",
    ")\n",
    "\n",
    "# configure the classification job\n",
    "classification_job = automl.classification(\n",
    "    compute             = ci_basic_name,\n",
    "    experiment_name     = \"jose_experiment_python_3\",\n",
    "    training_data       = my_training_data_input,\n",
    "    target_column_name  = \"target\",\n",
    "    primary_metric      = \"accuracy\",\n",
    "    n_cross_validations = 5,\n",
    "    enable_model_explainability = True,\n",
    "    tags                = {\"dmc\": \"demo\"}\n",
    ")\n",
    "\n",
    "# # Limits are all optional\n",
    "# classification_job.set_limits(\n",
    "#     timeout_minutes=600, \n",
    "#     trial_timeout_minutes=20, \n",
    "#     max_trials=2,\n",
    "#     enable_early_termination=True,\n",
    "# )\n",
    "\n",
    "# # Training properties are optional\n",
    "# classification_job.set_training(\n",
    "#     blocked_training_algorithms=[\"logistic_regression\"], \n",
    "#     enable_onnx_compatible_models=True\n",
    "# )"
   ]
  },
  {
   "cell_type": "markdown",
   "metadata": {},
   "source": [
    "# Step 5: Run experiment"
   ]
  },
  {
   "cell_type": "code",
   "execution_count": 7,
   "metadata": {},
   "outputs": [
    {
     "name": "stdout",
     "output_type": "stream",
     "text": [
      "Monitor your job at https://ml.azure.com/runs/quirky_star_nktb75xkkp?wsid=/subscriptions/37520400-632e-413e-b571-e52d252eb3c6/resourcegroups/dmc-group/workspaces/jose-dmc&tid=1640d5fb-1c9a-4aa4-8d9e-7850838a248a\n"
     ]
    }
   ],
   "source": [
    "# Submit the AutoML job\n",
    "returned_job = ml_client.jobs.create_or_update(classification_job)\n",
    "\n",
    "# Get the URL to monitor the job in Azure Machine Learning studio\n",
    "print(f\"Monitor your job at {returned_job.studio_url}\")"
   ]
  },
  {
   "cell_type": "code",
   "execution_count": null,
   "metadata": {},
   "outputs": [],
   "source": []
  }
 ],
 "metadata": {
  "kernelspec": {
   "display_name": "Python 3",
   "language": "python",
   "name": "python3"
  },
  "language_info": {
   "codemirror_mode": {
    "name": "ipython",
    "version": 3
   },
   "file_extension": ".py",
   "mimetype": "text/x-python",
   "name": "python",
   "nbconvert_exporter": "python",
   "pygments_lexer": "ipython3",
   "version": "3.10.11"
  }
 },
 "nbformat": 4,
 "nbformat_minor": 2
}
